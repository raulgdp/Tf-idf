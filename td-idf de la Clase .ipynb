{
 "cells": [
  {
   "cell_type": "code",
   "execution_count": 1,
   "metadata": {},
   "outputs": [],
   "source": [
    "import pandas as pd\n",
    " \n",
    "from sklearn.feature_extraction.text import TfidfTransformer\n",
    "from sklearn.feature_extraction.text import CountVectorizer\n",
    " \n",
    "# this is a very toy example, do not try this at home unless you want to understand the usage differences\n",
    "docs=[\"Shipment of gold demaged in a fire\",\n",
    "      \"Delivery of silver arrived in a silver truck\",\n",
    "      \"Shipment of gold arrived in a truck\"]\n",
    "      \n",
    "     \n",
    "docs1=['I love Brazil. Brazil!',\n",
    "                      'Sweden is best',\n",
    "                      'Germany beats both']"
   ]
  },
  {
   "cell_type": "code",
   "execution_count": 2,
   "metadata": {},
   "outputs": [],
   "source": [
    "from sklearn.feature_extraction.text import TfidfVectorizer\n",
    "\n",
    "tfidf = TfidfVectorizer()\n",
    "x = tfidf.fit_transform(docs1)"
   ]
  },
  {
   "cell_type": "code",
   "execution_count": 3,
   "metadata": {},
   "outputs": [
    {
     "name": "stdout",
     "output_type": "stream",
     "text": [
      "     beats     best     both    brazil  germany       is      love   sweden\n",
      "0  0.00000  0.00000  0.00000  0.894427  0.00000  0.00000  0.447214  0.00000\n",
      "1  0.00000  0.57735  0.00000  0.000000  0.00000  0.57735  0.000000  0.57735\n",
      "2  0.57735  0.00000  0.57735  0.000000  0.57735  0.00000  0.000000  0.00000\n"
     ]
    }
   ],
   "source": [
    "import pandas as pd\n",
    "df_tfidf = pd.DataFrame(x.toarray(), columns=tfidf.get_feature_names())\n",
    "print(df_tfidf)"
   ]
  },
  {
   "cell_type": "code",
   "execution_count": 4,
   "metadata": {},
   "outputs": [
    {
     "name": "stdout",
     "output_type": "stream",
     "text": [
      "[[0 0 0 2 0 0 1 0]\n",
      " [0 1 0 0 0 1 0 1]\n",
      " [1 0 1 0 1 0 0 0]]\n"
     ]
    }
   ],
   "source": [
    "from sklearn.feature_extraction.text import CountVectorizer\n",
    "from sklearn.preprocessing import normalize\n",
    "import numpy as np\n",
    "\n",
    "smooth_idf = True\n",
    "norm_idf = True\n",
    "\n",
    "# making one hot vector\n",
    "wc = CountVectorizer()\n",
    "x = wc.fit_transform(docs1)\n",
    "wcX = np.array(x.toarray())\n",
    "print(wcX)"
   ]
  },
  {
   "cell_type": "code",
   "execution_count": 6,
   "metadata": {},
   "outputs": [
    {
     "name": "stdout",
     "output_type": "stream",
     "text": [
      "3\n",
      "tf con nirmalización de vectores\n",
      "[[0.61363636 0.06818182 0.         0.31818182]\n",
      " [0.05714286 0.47142857 0.47142857 0.        ]\n",
      " [0.34285714 0.         0.41428571 0.24285714]]\n",
      "[3 2 2 2]\n",
      "[18165  6723 19241 25235]\n",
      "idf........\n",
      "[1.64752564 2.07919793 1.62253341 1.50475774]\n",
      "Matriz tf-idf................\n",
      "[[1.01098164 0.1417635  0.         0.47878655]\n",
      " [0.09414432 0.98019331 0.76490861 0.        ]\n",
      " [0.56486593 0.         0.67219241 0.36544116]]\n"
     ]
    }
   ],
   "source": [
    "import numpy as np\n",
    "# term frequency\n",
    "w=np.array([[27, 3, 0, 14], [4, 33, 33, 0], [24, 0, 29, 17]])\n",
    "# term frequency\n",
    "#N1 = wcX.shape[0]\n",
    "N = w.shape[0]\n",
    "print(N)\n",
    "tf = np.array([w[i, :] / np.sum(w, axis=1)[i] for i in range(N)])\n",
    "#tf = pd.DataFrame(tf, columns=w.get_feature_names())\n",
    "print('tf con nirmalización de vectores')\n",
    "print(tf)\n",
    "# inverse documents frequency\n",
    "df = np.count_nonzero(w, axis=0)\n",
    "print(df)\n",
    "# Este es el df  e idf del texto de Manning \n",
    "df1=np.array([18165, 6723, 19241, 25235])\n",
    "print(df1)\n",
    "N=806791\n",
    "idf1 = np.log10((1 + N) / (1 + df1)) + 1  if smooth_idf else np.log( N / df1 )\n",
    "idf2 = np.log10( N / df1 )\n",
    "print('idf........')\n",
    "print(idf2)\n",
    "# normalize\n",
    "tfidf1= tf*idf2\n",
    "tfidf = normalize(tf*idf1) if norm_idf else tf*idf1\n",
    "#tfidf = pd.DataFrame(tfidf, columns=wc.get_feature_names())\n",
    "print('Matriz tf-idf................')\n",
    "print(tfidf1)"
   ]
  },
  {
   "cell_type": "code",
   "execution_count": null,
   "metadata": {},
   "outputs": [],
   "source": []
  }
 ],
 "metadata": {
  "kernelspec": {
   "display_name": "Python 3",
   "language": "python",
   "name": "python3"
  },
  "language_info": {
   "codemirror_mode": {
    "name": "ipython",
    "version": 3
   },
   "file_extension": ".py",
   "mimetype": "text/x-python",
   "name": "python",
   "nbconvert_exporter": "python",
   "pygments_lexer": "ipython3",
   "version": "3.7.4"
  }
 },
 "nbformat": 4,
 "nbformat_minor": 4
}
